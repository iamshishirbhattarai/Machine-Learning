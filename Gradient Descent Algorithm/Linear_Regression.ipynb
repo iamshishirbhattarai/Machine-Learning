{
 "cells": [
  {
   "cell_type": "markdown",
   "id": "34a61ec3-815e-4c21-a9dd-2c0b6e81bbd5",
   "metadata": {},
   "source": [
    "# GRADIENT DESCENT ALGORITHM"
   ]
  },
  {
   "cell_type": "markdown",
   "id": "0d70d3ac-cb98-4c76-9b25-a10fe6bcbb3f",
   "metadata": {},
   "source": [
    "It is an algorithm that is used to find the optimal solutions to a wide range of problems. This algorithm tries to minimize the cost function by changing the value of parameters iteratively."
   ]
  },
  {
   "cell_type": "markdown",
   "id": "f151505c-9536-4f9a-b302-eba82b0b7cad",
   "metadata": {},
   "source": [
    "Let us understand this algorithm by a simple example of Linear Regression.\n",
    "\n",
    "Let the linear equation be $$ f(x) = wx + b \\tag{1} $$\n",
    "\n",
    "Now, here we need to find the best value of $w$ and $b$ so that our model would be working at its best and the model works the best, when $J(w,b)$ is at or near to zero. In simple words, the lesser the $J(w,b)$ value, the better the model ."
   ]
  },
  {
   "cell_type": "markdown",
   "id": "c1ee7286-469f-48c5-8889-f7cf3c011c97",
   "metadata": {},
   "source": [
    "### ALGORITHM"
   ]
  },
  {
   "cell_type": "markdown",
   "id": "8240cf29-2710-40b6-8975-c264424a183f",
   "metadata": {},
   "source": [
    "$$\\begin{align*} \\text{repeat}&\\text{ until convergence:} \\; \\lbrace \\newline\n",
    "\\;  w &= w -  \\alpha \\frac{\\partial J(w,b)}{\\partial w} \\tag{2}  \\; \\newline \n",
    " b &= b -  \\alpha \\frac{\\partial J(w,b)}{\\partial b}  \\newline \\rbrace\n",
    "\\end{align*}$$\n",
    "where, parameters $w$, $b$ are updated simultaneously and $\\alpha$ is the learning rate whose value is in between 0 and 1.\n",
    "\n",
    "The gradient is defined as:\n",
    "$$\n",
    "\\begin{align}\n",
    "\\frac{\\partial J(w,b)}{\\partial w}  &= \\frac{1}{m} \\sum\\limits_{i = 0}^{m-1} (f_{w,b}(x^{(i)}) - y^{(i)})x^{(i)} \\tag{3}\\\\\n",
    "  \\frac{\\partial J(w,b)}{\\partial b}  &= \\frac{1}{m} \\sum\\limits_{i = 0}^{m-1} (f_{w,b}(x^{(i)}) - y^{(i)}) \\tag{4}\\\\\n",
    "\\end{align}\n",
    "$$\n",
    "\n",
    "Here, cost function: $$J(w,b) = \\frac{1}{2m} \\sum\\limits_{i = 0}^{m-1} (f_{w,b}(x^{(i)}) - y^{(i)})^2 \\tag{5}$$ \n"
   ]
  },
  {
   "cell_type": "code",
   "execution_count": 26,
   "id": "c893db89-4bc0-4215-a5c6-2145382620fa",
   "metadata": {},
   "outputs": [],
   "source": [
    "#importing the necessary libraries \n",
    "import numpy as np\n",
    "import matplotlib.pyplot as plt"
   ]
  },
  {
   "cell_type": "markdown",
   "id": "94acfced-52f7-403b-bec1-d8e5e452e8fc",
   "metadata": {},
   "source": [
    "Let's take five data points . Here, **x_train** is the input variable while **y_train** is the target variable.\n",
    "\n",
    "$m$ is the total number of training examples. In this case, we have $m = 5$\n",
    "\n",
    "Also, representing the datasets in a scatter plot."
   ]
  },
  {
   "cell_type": "code",
   "execution_count": 150,
   "id": "654f2903-4557-4a75-a100-4f0a09f0000b",
   "metadata": {},
   "outputs": [
    {
     "name": "stdout",
     "output_type": "stream",
     "text": [
      "x_train = [1 2 3 4 5]\n",
      "y_train = [ 3  5  7 10 12]\n"
     ]
    }
   ],
   "source": [
    "x_train = np.array([1, 2, 3, 4, 5])\n",
    "y_train = np.array([3, 5, 7, 10, 12])\n",
    "print(f\"x_train = {x_train}\")\n",
    "print(f\"y_train = {y_train}\")"
   ]
  },
  {
   "cell_type": "code",
   "execution_count": 148,
   "id": "e76f25d5-d29e-4e96-800e-0d1a9826fd38",
   "metadata": {},
   "outputs": [
    {
     "name": "stdout",
     "output_type": "stream",
     "text": [
      "Number of training examples is: 5\n"
     ]
    }
   ],
   "source": [
    "m = len(x_train)\n",
    "print(f\"Number of training examples is: {m}\")"
   ]
  },
  {
   "cell_type": "code",
   "execution_count": 89,
   "id": "7c246a8a-2d02-4502-852c-5933301de440",
   "metadata": {
    "scrolled": true
   },
   "outputs": [
    {
     "data": {
      "image/png": "[encoded data removed]",
      "text/plain": [
       "<Figure size 640x480 with 1 Axes>"
      ]
     },
     "metadata": {},
     "output_type": "display_data"
    }
   ],
   "source": [
    "# Plot the data points\n",
    "plt.scatter(x_train, y_train, marker='x', c='r')\n",
    "# Set the title\n",
    "plt.title(\"Linear Regression\")\n",
    "# Set the y-axis label\n",
    "plt.ylabel('Y')\n",
    "# Set the x-axis label\n",
    "plt.xlabel('X')\n",
    "plt.show()"
   ]
  },
  {
   "cell_type": "markdown",
   "id": "8fbcdc1a-8ddc-47c2-875b-c1c0f9718176",
   "metadata": {},
   "source": [
    "The below function computes the output of the model, where  $x , w, b$  are provided as arguments and ultimately returns the $f_{wb}$ by calculating for each training inputs $x[i]$ using $(1)$"
   ]
  },
  {
   "cell_type": "code",
   "execution_count": 158,
   "id": "5f60ce65-2132-4118-8929-1b3244e98fe5",
   "metadata": {},
   "outputs": [],
   "source": [
    "def compute_model_output(x, w, b):\n",
    "\n",
    "    m = x.shape[0]\n",
    "    f_wb = np.zeros(m)\n",
    "    for i in range(m):\n",
    "        f_wb[i] = w * x[i] + b\n",
    "        \n",
    "    return f_wb"
   ]
  },
  {
   "cell_type": "markdown",
   "id": "69553174-57cd-45d3-a33e-390e30ce8818",
   "metadata": {},
   "source": [
    "The function **compute_cost** computes the cost function for the provided value of $w$ and $b$ by using $(4)$"
   ]
  },
  {
   "cell_type": "code",
   "execution_count": 95,
   "id": "ed5d693e-f2ae-4e5b-8365-c2e6b24f2adf",
   "metadata": {},
   "outputs": [],
   "source": [
    "def compute_cost(x, y, w, b):\n",
    "\n",
    "    m = x.shape[0]\n",
    "    cost = 0\n",
    "\n",
    "    for i in range(m):\n",
    "        f_wb = w * x[i] + b\n",
    "        cost = cost + (f_wb - y[i]) ** 2\n",
    "    total_cost = 1 / (2 * m) * cost\n",
    "\n",
    "    return total_cost\n",
    "    "
   ]
  },
  {
   "cell_type": "markdown",
   "id": "495df6a5-f812-4e67-bf7c-0eef42dee18c",
   "metadata": {},
   "source": [
    "The function **compute_gradient** computes the gradient in **Gradient Descent Algorithm** using $(3)$ and $(4)$"
   ]
  },
  {
   "cell_type": "code",
   "execution_count": 99,
   "id": "57a56807-dec5-43b4-897c-82f4ecd3ca35",
   "metadata": {},
   "outputs": [],
   "source": [
    "def compute_gradient(x, y, w, b):\n",
    "\n",
    "    m = x.shape[0]\n",
    "    dj_dw = 0\n",
    "    dj_db = 0\n",
    "\n",
    "    for i in range(m):\n",
    "        f_wb = w * x[i] + b\n",
    "        dj_dw += (f_wb - y[i]) * x[i]\n",
    "        dj_db += (f_wb - y[i])\n",
    "    dj_dw = 1/m * dj_dw\n",
    "    dj_db = 1/m * dj_db\n",
    "\n",
    "    return dj_dw, dj_db"
   ]
  },
  {
   "cell_type": "markdown",
   "id": "5f0100a1-50ae-4f46-b92c-c8df95d40248",
   "metadata": {},
   "source": [
    "The following function is where the **Gradient Descent** is implemented with all the required parameters passed as arguments."
   ]
  },
  {
   "cell_type": "code",
   "execution_count": 129,
   "id": "f4bba9be-0625-4008-a03a-8b5e627ae44e",
   "metadata": {},
   "outputs": [],
   "source": [
    "def gradient_descent(x, y, w_in, b_in, alpha, itrs, cost_function, gradient_function):\n",
    "\n",
    "    w = w_in\n",
    "    b = b_in \n",
    "\n",
    "    #To collect the data for graph to see cost vs iterations, but we won't use it here !!\n",
    "    J_history = [ ]\n",
    "    parameters_history = [ ]\n",
    "\n",
    "    for i in range(itrs):\n",
    "\n",
    "        dj_dw, dj_db = gradient_function(x, y, w, b)\n",
    "\n",
    "        w = w - alpha * dj_dw\n",
    "        b = b - alpha * dj_db\n",
    "        cost = cost_function(x, y, w, b)\n",
    "\n",
    "        J_history.append(cost)\n",
    "        parameters_history.append((w,b))\n",
    "\n",
    "        if i % 40 == 0:\n",
    "            print(f\"Iteration = {i}, w = {w}, b = {b}, cost = {cost}\")\n",
    "\n",
    "    return w, b, J_history, parameters_history"
   ]
  },
  {
   "cell_type": "code",
   "execution_count": 131,
   "id": "84a11f9a-f1bf-400f-88ec-0bba754d063e",
   "metadata": {},
   "outputs": [
    {
     "name": "stdout",
     "output_type": "stream",
     "text": [
      "Iteration = 0, w = 2.4215, b = 0.4565, cost = 0.09628275000000003\n",
      "Iteration = 40, w = 2.310386278557933, b = 0.4625022388575216, cost = 0.03012796577033175\n",
      "Iteration = 80, w = 2.305435158433739, b = 0.48037735348776966, cost = 0.030035042759621433\n",
      "Iteration = 120, w = 2.302844228280136, b = 0.489731433439962, cost = 0.030009596277181767\n",
      "Iteration = 160, w = 2.3014883898249052, b = 0.4946264404685572, cost = 0.030002627890518357\n",
      "Iteration = 200, w = 2.300778877098703, b = 0.4971880065373165, cost = 0.03000071963412966\n",
      "Iteration = 240, w = 2.300407587800409, b = 0.4985284787136149, cost = 0.03000019706805776\n",
      "Iteration = 280, w = 2.300213291436247, b = 0.49922995023814243, cost = 0.03000005396606106\n",
      "Iteration = 320, w = 2.3001116157959847, b = 0.4995970315609952, cost = 0.030000014778324747\n",
      "Iteration = 360, w = 2.300058408748764, b = 0.4997891258839658, cost = 0.030000004046967222\n",
      "Iteration = 400, w = 2.300030565404315, b = 0.499889649192073, cost = 0.030000001108240845\n",
      "Iteration = 440, w = 2.3000159949315933, b = 0.49994225322178387, cost = 0.030000000303486\n",
      "Iteration = 480, w = 2.300008370176754, b = 0.49996978100607514, cost = 0.03000000008310801\n",
      "Iteration = 520, w = 2.300004380128698, b = 0.4999841863455932, cost = 0.03000000002275878\n",
      "Iteration = 560, w = 2.300002292129303, b = 0.4999917246859272, cost = 0.030000000006232336\n",
      "Iteration = 600, w = 2.3000011994754272, b = 0.4999956695131159, cost = 0.03000000000170677\n",
      "Iteration = 640, w = 2.3000006276876697, b = 0.4999977338483482, cost = 0.030000000000467354\n",
      "Iteration = 680, w = 2.3000003284700976, b = 0.49999881411872465, cost = 0.030000000000128025\n",
      "Iteration = 720, w = 2.300000171888999, b = 0.49999937942617484, cost = 0.03000000000003505\n",
      "Iteration = 760, w = 2.300000089949825, b = 0.49999967525259004, cost = 0.030000000000009526\n",
      "Iteration = 800, w = 2.300000047070907, b = 0.49999983005909016, cost = 0.03000000000000256\n",
      "Iteration = 840, w = 2.300000024632291, b = 0.49999991106961317, cost = 0.0300000000000007\n",
      "Iteration = 880, w = 2.3000000128901226, b = 0.49999995346256704, cost = 0.030000000000000273\n",
      "Iteration = 920, w = 2.3000000067454245, b = 0.499999975646877, cost = 0.030000000000000006\n",
      "Iteration = 960, w = 2.300000003529893, b = 0.49999998725596656, cost = 0.029999999999999978\n",
      "Iteration = 1000, w = 2.300000001847199, b = 0.4999999933310243, cost = 0.030000000000000096\n",
      "Iteration = 1040, w = 2.3000000009666426, b = 0.499999996510113, cost = 0.030000000000000072\n",
      "Iteration = 1080, w = 2.3000000005058454, b = 0.499999998173736, cost = 0.030000000000000054\n",
      "Iteration = 1120, w = 2.30000000026471, b = 0.4999999990443128, cost = 0.03\n",
      "Iteration = 1160, w = 2.3000000001385232, b = 0.4999999994998872, cost = 0.029999999999999985\n",
      "Iteration = 1200, w = 2.3000000000724894, b = 0.4999999997382901, cost = 0.030000000000000054\n",
      "Iteration = 1240, w = 2.300000000037934, b = 0.4999999998630465, cost = 0.03\n",
      "Iteration = 1280, w = 2.300000000019851, b = 0.499999999928332, cost = 0.029999999999999916\n",
      "Iteration = 1320, w = 2.300000000010388, b = 0.49999999996249594, cost = 0.030000000000000006\n",
      "Iteration = 1360, w = 2.3000000000054364, b = 0.49999999998037403, cost = 0.02999999999999995\n",
      "Iteration = 1400, w = 2.3000000000028447, b = 0.4999999999897295, cost = 0.029999999999999985\n",
      "Iteration = 1440, w = 2.300000000001489, b = 0.49999999999462535, cost = 0.030000000000000034\n",
      "Iteration = 1480, w = 2.3000000000007788, b = 0.4999999999971876, cost = 0.030000000000000016\n",
      "Iteration = 1520, w = 2.3000000000004075, b = 0.4999999999985282, cost = 0.030000000000000054\n",
      "Iteration = 1560, w = 2.3000000000002134, b = 0.4999999999992299, cost = 0.030000000000000016\n",
      "Iteration = 1600, w = 2.3000000000001117, b = 0.4999999999995967, cost = 0.03\n",
      "Iteration = 1640, w = 2.3000000000000584, b = 0.499999999999789, cost = 0.029999999999999985\n",
      "Iteration = 1680, w = 2.3000000000000305, b = 0.49999999999988964, cost = 0.029999999999999985\n",
      "Iteration = 1720, w = 2.300000000000016, b = 0.4999999999999423, cost = 0.02999999999999995\n",
      "Iteration = 1760, w = 2.3000000000000083, b = 0.4999999999999701, cost = 0.030000000000000023\n",
      "Iteration = 1800, w = 2.3000000000000043, b = 0.49999999999998435, cost = 0.029999999999999985\n",
      "Iteration = 1840, w = 2.3000000000000025, b = 0.4999999999999917, cost = 0.030000000000000072\n",
      "Iteration = 1880, w = 2.3000000000000016, b = 0.499999999999995, cost = 0.029999999999999985\n",
      "Iteration = 1920, w = 2.3000000000000016, b = 0.49999999999999517, cost = 0.030000000000000072\n",
      "Iteration = 1960, w = 2.3000000000000016, b = 0.49999999999999517, cost = 0.030000000000000072\n",
      "Iteration = 2000, w = 2.3000000000000016, b = 0.49999999999999517, cost = 0.030000000000000072\n",
      "Iteration = 2040, w = 2.3000000000000016, b = 0.49999999999999517, cost = 0.030000000000000072\n",
      "Iteration = 2080, w = 2.3000000000000016, b = 0.49999999999999517, cost = 0.030000000000000072\n",
      "Iteration = 2120, w = 2.3000000000000016, b = 0.49999999999999517, cost = 0.030000000000000072\n",
      "Iteration = 2160, w = 2.3000000000000016, b = 0.49999999999999517, cost = 0.030000000000000072\n",
      "Iteration = 2200, w = 2.3000000000000016, b = 0.49999999999999517, cost = 0.030000000000000072\n",
      "Iteration = 2240, w = 2.3000000000000016, b = 0.49999999999999517, cost = 0.030000000000000072\n",
      "Iteration = 2280, w = 2.3000000000000016, b = 0.49999999999999517, cost = 0.030000000000000072\n",
      "Iteration = 2320, w = 2.3000000000000016, b = 0.49999999999999517, cost = 0.030000000000000072\n",
      "Iteration = 2360, w = 2.3000000000000016, b = 0.49999999999999517, cost = 0.030000000000000072\n",
      "Iteration = 2400, w = 2.3000000000000016, b = 0.49999999999999517, cost = 0.030000000000000072\n",
      "Iteration = 2440, w = 2.3000000000000016, b = 0.49999999999999517, cost = 0.030000000000000072\n",
      "Iteration = 2480, w = 2.3000000000000016, b = 0.49999999999999517, cost = 0.030000000000000072\n",
      "Iteration = 2520, w = 2.3000000000000016, b = 0.49999999999999517, cost = 0.030000000000000072\n",
      "Iteration = 2560, w = 2.3000000000000016, b = 0.49999999999999517, cost = 0.030000000000000072\n",
      "Iteration = 2600, w = 2.3000000000000016, b = 0.49999999999999517, cost = 0.030000000000000072\n",
      "Iteration = 2640, w = 2.3000000000000016, b = 0.49999999999999517, cost = 0.030000000000000072\n",
      "Iteration = 2680, w = 2.3000000000000016, b = 0.49999999999999517, cost = 0.030000000000000072\n",
      "Iteration = 2720, w = 2.3000000000000016, b = 0.49999999999999517, cost = 0.030000000000000072\n",
      "Iteration = 2760, w = 2.3000000000000016, b = 0.49999999999999517, cost = 0.030000000000000072\n",
      "Iteration = 2800, w = 2.3000000000000016, b = 0.49999999999999517, cost = 0.030000000000000072\n",
      "Iteration = 2840, w = 2.3000000000000016, b = 0.49999999999999517, cost = 0.030000000000000072\n",
      "Iteration = 2880, w = 2.3000000000000016, b = 0.49999999999999517, cost = 0.030000000000000072\n",
      "Iteration = 2920, w = 2.3000000000000016, b = 0.49999999999999517, cost = 0.030000000000000072\n",
      "Iteration = 2960, w = 2.3000000000000016, b = 0.49999999999999517, cost = 0.030000000000000072\n"
     ]
    }
   ],
   "source": [
    "#Initial values of w and b\n",
    "w_init = 1.5\n",
    "b_init = 0.2\n",
    "\n",
    "#No. of iterations\n",
    "iterations = 3000\n",
    "\n",
    "#Learning Rate\n",
    "alpha = 0.095\n",
    "\n",
    "#gradient_descent function Call\n",
    "w_final, b_final, J_list, Params_list = gradient_descent(x_train, y_train, w_init, b_init, alpha, iterations, compute_cost, compute_gradient)"
   ]
  },
  {
   "cell_type": "markdown",
   "id": "821f49c6-762c-4982-ba19-ebb374af2f0e",
   "metadata": {},
   "source": [
    "As you can see in the above output, after **Iteration : 1920**, the value of $w , b$ and $cost$ is same . This is how the **Gradient Descent** works i.e. once it reaches it's minimum, the value remains constant and the computations has no effect afterwards. In Linear Regression model, there is only one minimum but in case of other models,there can be various local minimum and a global minimum. So, somewhere the algorithm might get stucked in local minimum and never reach global minimum which may deprived us from getting the best solution.\n",
    "\n",
    "Now, plotting the data points from the model with the help of value of $w$ and $b$ found from the algorithm :"
   ]
  },
  {
   "cell_type": "code",
   "execution_count": 133,
   "id": "7c5e31a6-dcae-40fd-8e16-20d86cf63f29",
   "metadata": {},
   "outputs": [
    {
     "data": {
      "image/png": "[encoded data removed]",
      "text/plain": [
       "<Figure size 640x480 with 1 Axes>"
      ]
     },
     "metadata": {},
     "output_type": "display_data"
    }
   ],
   "source": [
    "tmp_f_wb = compute_model_output(x_train, w_final, b_final)\n",
    "\n",
    "# Plot our model prediction\n",
    "plt.plot(x_train, tmp_f_wb, c='b',label='Our Prediction')\n",
    "\n",
    "# Plot the data points\n",
    "plt.scatter(x_train, y_train, marker='x', c='r',label='Actual Values')\n",
    "\n",
    "# Set the title\n",
    "plt.title(\"Linear Regression\")\n",
    "# Set the y-axis label\n",
    "plt.ylabel('Y')\n",
    "# Set the x-axis label\n",
    "plt.xlabel('X')\n",
    "plt.legend()\n",
    "plt.show()"
   ]
  },
  {
   "cell_type": "markdown",
   "id": "7b81e821-7c96-46a0-bd6d-d1553f3a2bdb",
   "metadata": {},
   "source": [
    "Almost, the model works perfectly ."
   ]
  }
 ],
 "metadata": {
  "kernelspec": {
   "display_name": "Python 3 (ipykernel)",
   "language": "python",
   "name": "python3"
  },
  "language_info": {
   "codemirror_mode": {
    "name": "ipython",
    "version": 3
   },
   "file_extension": ".py",
   "mimetype": "text/x-python",
   "name": "python",
   "nbconvert_exporter": "python",
   "pygments_lexer": "ipython3",
   "version": "3.11.0"
  }
 },
 "nbformat": 4,
 "nbformat_minor": 5
}
