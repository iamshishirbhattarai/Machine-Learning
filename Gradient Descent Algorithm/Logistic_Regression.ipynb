{
 "cells": [
  {
   "cell_type": "markdown",
   "id": "b82a7ce2-41ff-4148-9a7a-1793591220ac",
   "metadata": {},
   "source": [
    "# LOGISTIC REGRESSION"
   ]
  },
  {
   "cell_type": "markdown",
   "id": "68e263b3-824c-4b36-aabf-362fe89b4a37",
   "metadata": {},
   "source": [
    "Logistic regression is a classification algorithm and it generally deals with only two classes. The classes may be True/False, Yes/No or 0/1. It uses sigmoid function. \n",
    "\n",
    "The Logistic regression model is represented as, $$ f_{\\mathbf{w},b}(x) = g(\\mathbf{w}\\cdot \\mathbf{x} + b)$$\n",
    "where, $g$ is the **sigmoid function**.\n",
    "\n",
    "### Sigmoid Function:\n",
    "The sigmoid function is a type of activation function that provides the output between 0 and 1. The sigmoid function is given by,\n",
    "\n",
    "$$g(z) = \\frac{1}{1+e^{-z}}$$\n",
    "\n",
    "Here, $z$ can be a single number as well as array of numbers.\n",
    "\n",
    "Let us take an example to understand **Logistic Regression** as well as **Gradient descent algorithm** implementation on it.\n",
    "\n"
   ]
  },
  {
   "cell_type": "code",
   "execution_count": 144,
   "id": "887de6ae-603d-4daf-878d-4b2bd9f6eb57",
   "metadata": {},
   "outputs": [],
   "source": [
    "#import required libraries\n",
    "import numpy as np\n",
    "import matplotlib.pyplot as plt"
   ]
  },
  {
   "cell_type": "code",
   "execution_count": 146,
   "id": "77ef5454-cca4-4b2f-8b98-cdaa2e84a72b",
   "metadata": {},
   "outputs": [
    {
     "name": "stdout",
     "output_type": "stream",
     "text": [
      "X dataset: [[0.5 1.5]\n",
      " [1.  1. ]\n",
      " [1.5 0.5]\n",
      " [3.  0.5]\n",
      " [2.  2. ]\n",
      " [1.  2.5]]\n",
      "Y dataset: [0 0 0 1 1 1]\n"
     ]
    }
   ],
   "source": [
    "#input training examples\n",
    "x_train = np.array([[0.5, 1.5], [1,1], [1.5, 0.5], [3, 0.5], [2, 2], [1, 2.5]])\n",
    "#output training examples\n",
    "y_train = np.array([0, 0, 0, 1, 1, 1])\n",
    "print(f\"X dataset: {x_train}\")\n",
    "print(f\"Y dataset: {y_train}\")"
   ]
  },
  {
   "cell_type": "code",
   "execution_count": 148,
   "id": "276a4a31-4a58-473f-9369-7dc6f5f2c6cc",
   "metadata": {},
   "outputs": [
    {
     "data": {
      "image/png": "[encoded data removed]",
      "text/plain": [
       "<Figure size 800x600 with 1 Axes>"
      ]
     },
     "metadata": {},
     "output_type": "display_data"
    }
   ],
   "source": [
    "# Plot the data\n",
    "plt.figure(figsize=(8, 6))\n",
    "\n",
    "# Separate points based on their class\n",
    "for i in range(len(y_train)):\n",
    "    if y_train[i] == 0:\n",
    "        plt.scatter(x_train[i, 0], x_train[i, 1], color='red', marker='o', label='0' if i == 0 else \"\")\n",
    "    else:\n",
    "        plt.scatter(x_train[i, 0], x_train[i, 1], color='blue', marker='x', label='1' if i == 3 else \"\")\n",
    "\n",
    "plt.title('Training Data')\n",
    "plt.xlabel('X')\n",
    "plt.ylabel('Y')\n",
    "plt.legend()\n",
    "plt.grid(True)\n",
    "plt.show()"
   ]
  },
  {
   "cell_type": "code",
   "execution_count": 188,
   "id": "0963ece4-ebc2-4a6d-a4f4-370bda1a6c7c",
   "metadata": {},
   "outputs": [],
   "source": [
    "#Logistic Regression model computation\n",
    "def compute_model_output(x, w, b):\n",
    "    \"\"\"\n",
    "    Computes model output\n",
    "    Args: \n",
    "        x : training input (array)\n",
    "        w : model parameters (array)\n",
    "        b : model parameter (scalar)\n",
    "    Return: \n",
    "        f_wb : model output \n",
    "    \"\"\"\n",
    "    m,n = x.shape\n",
    "    f_wb = sigmoid(np.dot(x, w) + b)\n",
    "\n",
    "    for i in range(m):\n",
    "        if f_wb[i] > 0.5:\n",
    "            f_wb[i] = 1\n",
    "        else:\n",
    "            f_wb[i] = 0\n",
    "\n",
    "    return f_wb"
   ]
  },
  {
   "cell_type": "code",
   "execution_count": 136,
   "id": "ffc2f262-9740-4bc0-9fe1-e5d82eb643ea",
   "metadata": {},
   "outputs": [],
   "source": [
    "#sigmoid function implementation\n",
    "def sigmoid(z):\n",
    "   \"\"\"\n",
    "   Computes sigmoid function\n",
    "   Args:\n",
    "       z : inputs (array)\n",
    "\n",
    "   Returns:\n",
    "       g : sigmoid value (array)\n",
    "    \"\"\"\n",
    "\n",
    "   g = 1 / (1 + np.exp(-z))\n",
    "\n",
    "   return g"
   ]
  },
  {
   "cell_type": "markdown",
   "id": "4680a1ef-052b-4f45-9975-74ee9513c2c9",
   "metadata": {},
   "source": [
    "### Cost Function\n",
    "\n",
    "For logistic regression, the cost function is of the form \n",
    "\n",
    "$$ J(\\mathbf{w},b) = \\frac{1}{m}\\sum_{i=0}^{m-1} \\left[ loss(f_{\\mathbf{w},b}(\\mathbf{x}^{(i)}), y^{(i)}) \\right] \\tag{1}$$\n",
    "\n",
    "where\n",
    "* m is the number of training examples in the dataset\n",
    "\n",
    "\n",
    "* $loss(f_{\\mathbf{w},b}(\\mathbf{x}^{(i)}), y^{(i)})$ is the cost for a single data point, which is - \n",
    "\n",
    "    $$loss(f_{\\mathbf{w},b}(\\mathbf{x}^{(i)}), y^{(i)}) = (-y^{(i)} \\log\\left(f_{\\mathbf{w},b}\\left( \\mathbf{x}^{(i)} \\right) \\right) - \\left( 1 - y^{(i)}\\right) \\log \\left( 1 - f_{\\mathbf{w},b}\\left( \\mathbf{x}^{(i)} \\right) \\right) \\tag{2}$$\n",
    "    \n",
    "    \n",
    "*  $f_{\\mathbf{w},b}(\\mathbf{x}^{(i)})$ is the model's prediction, while $y^{(i)}$, which is the actual label\n",
    "\n",
    "*  $f_{\\mathbf{w},b}(\\mathbf{x}^{(i)}) = g(\\mathbf{w} \\cdot \\mathbf{x^{(i)}} + b)$ where function $g$ is the sigmoid function.\n"
   ]
  },
  {
   "cell_type": "code",
   "execution_count": 207,
   "id": "f1ceae6d-a430-4632-a63d-7d75c3c2fede",
   "metadata": {},
   "outputs": [],
   "source": [
    "#cost function calculation using (1) and (2)\n",
    "def compute_cost(x, y, w, b):\n",
    "    \"\"\"\n",
    "    Computes cost function\n",
    "    Args:\n",
    "        x : training inputs (array)\n",
    "        y : target output (aray)\n",
    "        w : model parameters (array)\n",
    "        b : model parameter\n",
    "\n",
    "    Returns:\n",
    "        cost : cost value (scalar)\n",
    "    \"\"\"\n",
    "    m = x.shape[0]\n",
    "    cost = 0.0\n",
    "    epsilon = 1e-7   #to avoid log0\n",
    "    for i in range(m):\n",
    "        z_i = np.dot(x[i], w) + b\n",
    "        fw_i = sigmoid(z_i)\n",
    "        cost += -y[i] * np.log(fw_i + epsilon) - (1-y[i]) * np.log(1-fw_i + epsilon)\n",
    "    cost = cost / m\n",
    "    return cost"
   ]
  },
  {
   "cell_type": "markdown",
   "id": "b5f754c5-2c01-4868-8ea6-9bbedbd7a5d5",
   "metadata": {},
   "source": [
    "<a name=\"2.5\"></a>\n",
    "### Gradient Descent for logistic regression\n",
    "\n",
    "$$\\begin{align*}& \\text{repeat until convergence:} \\; \\lbrace \\newline \\; & b = b -  \\alpha \\frac{\\partial J(\\mathbf{w},b)}{\\partial b} \\newline       \\; & w_j = w_j -  \\alpha \\frac{\\partial J(\\mathbf{w},b)}{\\partial w_j} \\tag{3}  \\; & \\text{for j := 0..n-1}\\newline & \\rbrace\\end{align*}$$\n",
    "\n",
    "where, parameters $b$, $w_j$ are all updated simultaniously\n",
    "\n",
    "And, \n",
    "$$\n",
    "\\frac{\\partial J(\\mathbf{w},b)}{\\partial b}  = \\frac{1}{m} \\sum\\limits_{i = 0}^{m-1} (f_{\\mathbf{w},b}(\\mathbf{x}^{(i)}) - \\mathbf{y}^{(i)}) \\tag{4}\n",
    "$$\n",
    "$$\n",
    "\\frac{\\partial J(\\mathbf{w},b)}{\\partial w_j}  = \\frac{1}{m} \\sum\\limits_{i = 0}^{m-1} (f_{\\mathbf{w},b}(\\mathbf{x}^{(i)}) - \\mathbf{y}^{(i)})x_{j}^{(i)} \\tag{5}$$"
   ]
  },
  {
   "cell_type": "code",
   "execution_count": 212,
   "id": "d036cf81-9a6c-400b-a711-8c2b9f5a6b4d",
   "metadata": {},
   "outputs": [],
   "source": [
    "#calculating gradient using (4), (5)\n",
    "def compute_gradient(x, y, w, b):\n",
    "    \"\"\"\n",
    "    Computes gradients\n",
    "    Args:\n",
    "        x : training inputs (array)\n",
    "        y : target output (array)\n",
    "        w : model parameters (array)\n",
    "        b : model parameter (scalar)\n",
    "\n",
    "    Returns:\n",
    "        dj_dw : gradient w.r.t. w \n",
    "        dj_db : gradient w.r.t b\n",
    "    \"\"\"\n",
    "\n",
    "    m,n = x.shape\n",
    "    dj_dw = np.zeros(n,)\n",
    "    dj_db = 0.\n",
    "    for i in range(m):\n",
    "        z_i = np.dot(x[i], w) + b\n",
    "        error = sigmoid(z_i) - y[i]\n",
    "        for j in range(n):\n",
    "            dj_dw[j] = dj_dw[j] + error * x[i,j]\n",
    "        dj_db += error\n",
    "    dj_dw = dj_dw/m\n",
    "    dj_db = dj_db/m\n",
    "\n",
    "    return dj_dw, dj_db\n",
    "\n",
    "    \n",
    "\n",
    "    "
   ]
  },
  {
   "cell_type": "code",
   "execution_count": 214,
   "id": "f6f053a8-9b84-4ee4-bd80-56893b64bf53",
   "metadata": {},
   "outputs": [],
   "source": [
    "#implementing gradient descent algoirthm using (3)\n",
    "def gradient_descent(x, y, w_in, b_in, alpha, itrs):\n",
    "    \"\"\"\n",
    "    Performs gradient descent algorithm\n",
    "    Args:\n",
    "        x : training inputs (array)\n",
    "        y : target output (array)\n",
    "        w_in : Initialized w model parameters (array)\n",
    "        b_in : Initialized b model parameter (scalar)\n",
    "        alpha : learning rate (between 0 and 1)\n",
    "        itrs : No. of iterations\n",
    "\n",
    "   Returns : \n",
    "       w : updated value of w\n",
    "       b : update value of b\n",
    "    \"\"\"\n",
    "\n",
    "    w = w_in\n",
    "    b = b_in\n",
    "\n",
    "    for i in range(itrs):\n",
    "        dj_dw, dj_db = compute_gradient(x, y, w, b)\n",
    "        w = w - alpha * dj_dw\n",
    "        b = b - alpha * dj_db\n",
    "\n",
    "        if i % 1000 == 0 :\n",
    "            cost = compute_cost(x, y, w, b)\n",
    "            print(f\"Iteration : {i}, w : {w}, b : {b}, cost : {cost}\")\n",
    "\n",
    "    return w, b"
   ]
  },
  {
   "cell_type": "code",
   "execution_count": 164,
   "id": "e440bccf-dd71-4e2d-8f87-08652a180fa8",
   "metadata": {},
   "outputs": [
    {
     "name": "stdout",
     "output_type": "stream",
     "text": [
      "Iteration : 0, w : [0.025      0.01666667], b : 0.0, cost : 0.6846102701730165\n",
      "Iteration : 1000, w : [2.30572624 2.07740353], b : -5.9109933019066005, cost : 0.15909764926959774\n",
      "Iteration : 2000, w : [3.15508984 2.94023038], b : -8.31149228999275, cost : 0.08460053288638097\n",
      "Iteration : 3000, w : [3.68092411 3.47097047], b : -9.782304238535811, cost : 0.05705316689607166\n",
      "Iteration : 4000, w : [4.06024975 3.8527842 ], b : -10.838640780957705, cost : 0.04290748981684383\n",
      "Iteration : 5000, w : [4.35647898 4.15050189], b : -11.66153788565381, cost : 0.03433837379489136\n",
      "Iteration : 6000, w : [4.59929949 4.39430614], b : -12.334999960928219, cost : 0.028603695113001096\n",
      "Iteration : 7000, w : [4.80494417 4.6006459 ], b : -12.904720255835343, cost : 0.024501467122816038\n",
      "Iteration : 8000, w : [4.98324047 4.77945746], b : -13.398265876886166, cost : 0.02142360115589878\n",
      "Iteration : 9000, w : [5.14058319 4.93719618], b : -13.833530467558626, cost : 0.0190300351994314\n",
      "W final : [5.28123029 5.07815608] , b_final : -14.222409982019837\n"
     ]
    }
   ],
   "source": [
    "w = np.zeros_like(x_train[0])\n",
    "b = 0.\n",
    "alpha = 0.1\n",
    "iters = 10000\n",
    "\n",
    "w_final, b_final = gradient_descent(x_train, y_train, w, b, alpha, iters)\n",
    "\n",
    "print(f\"W final : {w_final} , b_final : {b_final}\")\n"
   ]
  },
  {
   "cell_type": "markdown",
   "id": "6890222c-cecf-4d8a-9eaf-ed3f061bcb4c",
   "metadata": {},
   "source": [
    "Now, using the obtained **w_final** and **b_final** to compute the model output using **compute_model_output** function "
   ]
  },
  {
   "cell_type": "code",
   "execution_count": 222,
   "id": "e52397b7-3a6e-4a4e-8a4e-c81681530a1a",
   "metadata": {},
   "outputs": [
    {
     "name": "stdout",
     "output_type": "stream",
     "text": [
      "Actual output : [0 0 0 1 1 1]\n",
      "Predicted output : [0. 0. 0. 1. 1. 1.]\n"
     ]
    }
   ],
   "source": [
    "temp_f = compute_model_output(x_train, w_final, b_final)\n",
    "\n",
    "print(f\"Actual output : {y_train}\")\n",
    "print(f\"Predicted output : {temp_f}\")\n",
    "\n"
   ]
  },
  {
   "cell_type": "markdown",
   "id": "1c408032-a0ff-4b3e-8486-5dc3be84bd9f",
   "metadata": {},
   "source": [
    "The model predicted same as the target output"
   ]
  }
 ],
 "metadata": {
  "kernelspec": {
   "display_name": "Python 3 (ipykernel)",
   "language": "python",
   "name": "python3"
  },
  "language_info": {
   "codemirror_mode": {
    "name": "ipython",
    "version": 3
   },
   "file_extension": ".py",
   "mimetype": "text/x-python",
   "name": "python",
   "nbconvert_exporter": "python",
   "pygments_lexer": "ipython3",
   "version": "3.11.0"
  }
 },
 "nbformat": 4,
 "nbformat_minor": 5
}
